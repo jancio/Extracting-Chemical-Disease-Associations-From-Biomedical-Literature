{
 "cells": [
  {
   "cell_type": "code",
   "execution_count": 2,
   "metadata": {},
   "outputs": [
    {
     "name": "stdout",
     "output_type": "stream",
     "text": [
      "Done\n"
     ]
    }
   ],
   "source": [
    "##########################################################################################################\n",
    "# Extracting chemical-disease associations from the biological literature\n",
    "# R214: Main Practical\n",
    "# Jan Ondras (jo356), Trinity College\n",
    "##########################################################################################################\n",
    "# Check whether there is a concept without a beginning tag B- (in  BioCreative V CDR testing set)\n",
    "# => no such found, in neither true nor predicted labels; neither for initial nor tuned method\n",
    "# DONE\n",
    "##########################################################################################################\n",
    "\n",
    "import numpy as np\n",
    "import matplotlib.pyplot as plt\n",
    "import time\n",
    "import glob\n",
    "\n",
    "# Proper approach\n",
    "t = 1 # t=1 means predicted, t=0 means true labels are iterated over\n",
    "LINE_NUM = 0\n",
    "withinConcept = False\n",
    "# with open('./../Dataset/initModel_testing.out') as f:   \n",
    "with open('./../Dataset/tunedModel_testing.out') as f:   \n",
    "\n",
    "    # Iterate over all lines\n",
    "    while True: \n",
    "        LINE_NUM += 1\n",
    "        # Read line\n",
    "        rl = f.readline()\n",
    "        rlwn = rl.split('\\n')[0] # read line skipping the new line character\n",
    "        #print LINE_NUM, rlwn\n",
    "        \n",
    "        # End of file\n",
    "        if rl == '':\n",
    "            break\n",
    "        \n",
    "        if rlwn == '': # end of sentence\n",
    "            withinConcept = False\n",
    "            \n",
    "        else:\n",
    "            x = rlwn.split('\\t')[t][0]\n",
    "            if withinConcept:\n",
    "                if x == 'I': \n",
    "                    pass\n",
    "                elif x == 'B': \n",
    "                    pass\n",
    "                elif x == 'O': \n",
    "                    withinConcept = False\n",
    "                else:\n",
    "                    raise ValueError('Unknown label!')\n",
    "            else:\n",
    "                if x == 'I': \n",
    "                    print \"Concept without beginning, at line\", LINE_NUM, rlwn\n",
    "                    withinConcept = True\n",
    "                elif x == 'B': \n",
    "                    withinConcept = True\n",
    "                elif x == 'O': \n",
    "                    pass\n",
    "                else:\n",
    "                    raise ValueError('Unknown label!')\n",
    "                    \n",
    "            \n",
    "                    \n",
    "# This approach ignores breaks between sentences: incorrect\n",
    "# t = 1 # t=1 means predicted, t=0 means true labels are iterated over\n",
    "# for i in range(initModel_data.shape[0] - 1):\n",
    "#     if initModel_data[i+1,t][0] == 'I' and initModel_data[i,t][0] != 'B' and initModel_data[i,t][0] != 'I':\n",
    "#         print \"Concept without beginning\", initModel_data[i,t], initModel_data[i+1,t]\n",
    "\n",
    "        \n",
    "# for i in range(tunedModel_data.shape[0] - 1):\n",
    "#     if tunedModel_data[i+1,t][0] == 'I' and tunedModel_data[i,t][0] != 'B' and tunedModel_data[i,t][0] != 'I':\n",
    "#         print \"Concept without beginning\", tunedModel_data[i,t], tunedModel_data[i+1,t]\n",
    "        \n",
    "print \"Done\""
   ]
  },
  {
   "cell_type": "code",
   "execution_count": null,
   "metadata": {},
   "outputs": [],
   "source": []
  }
 ],
 "metadata": {
  "kernelspec": {
   "display_name": "Python 2",
   "language": "python",
   "name": "python2"
  },
  "language_info": {
   "codemirror_mode": {
    "name": "ipython",
    "version": 2
   },
   "file_extension": ".py",
   "mimetype": "text/x-python",
   "name": "python",
   "nbconvert_exporter": "python",
   "pygments_lexer": "ipython2",
   "version": "2.7.12"
  }
 },
 "nbformat": 4,
 "nbformat_minor": 2
}
